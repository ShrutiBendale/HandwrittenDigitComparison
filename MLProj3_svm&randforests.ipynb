{
 "cells": [
  {
   "cell_type": "markdown",
   "metadata": {},
   "source": [
    "## MNIST Data Preprocessing"
   ]
  },
  {
   "cell_type": "code",
   "execution_count": 1,
   "metadata": {},
   "outputs": [
    {
     "name": "stdout",
     "output_type": "stream",
     "text": [
      "(50000, 784) (50000,)\n",
      "(10000, 784) (10000,)\n"
     ]
    }
   ],
   "source": [
    "import pickle\n",
    "import gzip\n",
    "import numpy as np\n",
    "import matplotlib.pyplot as plt\n",
    "\n",
    "path = 'mnist.pkl.gz'\n",
    "f = gzip.open(path, 'rb')\n",
    "training_data, validation_data, test_data = pickle.load(f, encoding='latin1')\n",
    "f.close()\n",
    "\n",
    "x_train, y_train = training_data[0], training_data[1]\n",
    "print (x_train.shape, y_train.shape)\n",
    "\n",
    "x_test, y_test = test_data[0], test_data[1]\n",
    "print (x_test.shape, y_test.shape)\n"
   ]
  },
  {
   "cell_type": "markdown",
   "metadata": {},
   "source": [
    "## USPS Data Preprocessing"
   ]
  },
  {
   "cell_type": "code",
   "execution_count": 2,
   "metadata": {},
   "outputs": [],
   "source": [
    "from PIL import Image\n",
    "import os\n",
    "import numpy as np\n",
    "\n",
    "#USPS data preprocessing\n",
    "USPSMat  = []\n",
    "USPSTar  = []\n",
    "curPath  = 'USPSdata/Numerals'\n",
    "savedImg = []\n",
    "\n",
    "\n",
    "for j in range(0,10):\n",
    "    curFolderPath = curPath + '/' + str(j)\n",
    "    imgs =  os.listdir(curFolderPath)\n",
    "    for img in imgs:\n",
    "        curImg = curFolderPath + '/' + img\n",
    "        if curImg[-3:] == 'png':\n",
    "            img = Image.open(curImg,'r')\n",
    "            img = img.resize((28, 28))\n",
    "            savedImg = img\n",
    "            imgdata = (255-np.array(img.getdata()))/255\n",
    "            USPSMat.append(imgdata)\n",
    "            USPSTar.append(j)\n",
    "usps_data = np.array(USPSMat) \n",
    "usps_lables = np.array(USPSTar)\n"
   ]
  },
  {
   "cell_type": "markdown",
   "metadata": {},
   "source": [
    "## SVM Classifier"
   ]
  },
  {
   "cell_type": "code",
   "execution_count": 3,
   "metadata": {},
   "outputs": [
    {
     "name": "stdout",
     "output_type": "stream",
     "text": [
      "Classification report for classifier SVC(C=2, cache_size=200, class_weight=None, coef0=0.0,\n",
      "  decision_function_shape='ovr', degree=3, gamma=0.001, kernel='rbf',\n",
      "  max_iter=-1, probability=False, random_state=None, shrinking=True,\n",
      "  tol=0.001, verbose=False):\n",
      "             precision    recall  f1-score   support\n",
      "\n",
      "          0       0.96      0.99      0.97       980\n",
      "          1       0.97      0.99      0.98      1135\n",
      "          2       0.93      0.94      0.94      1032\n",
      "          3       0.92      0.94      0.93      1010\n",
      "          4       0.93      0.95      0.94       982\n",
      "          5       0.93      0.91      0.92       892\n",
      "          6       0.95      0.97      0.96       958\n",
      "          7       0.96      0.93      0.94      1028\n",
      "          8       0.95      0.92      0.93       974\n",
      "          9       0.94      0.92      0.93      1009\n",
      "\n",
      "avg / total       0.95      0.95      0.95     10000\n",
      "\n",
      "\n",
      "Confusion matrix:\n",
      "[[ 967    0    1    0    0    5    4    1    2    0]\n",
      " [   0 1122    2    3    0    1    3    1    3    0]\n",
      " [   7    1  969    8   10    2   10   10   13    2]\n",
      " [   1    1   18  947    1   16    1    9   12    4]\n",
      " [   1    1    7    0  936    0    7    2    2   26]\n",
      " [   7    4    5   32    6  809   13    1   10    5]\n",
      " [   9    3    4    1    5    8  927    0    1    0]\n",
      " [   1   12   23    6    7    1    0  960    3   15]\n",
      " [   4    5    7   15    8   24   10    7  892    2]\n",
      " [   8    6    1   14   29    4    1   14    5  927]]\n"
     ]
    }
   ],
   "source": [
    "\n",
    "import matplotlib.pyplot as plt\n",
    "from sklearn import svm, metrics, datasets\n",
    "\n",
    "classifier = svm.SVC(kernel='rbf', C=2,gamma=0.001)\n",
    "classifier.fit(x_train, y_train )\n",
    "\n",
    "#testing using mnist\n",
    "expected = y_test\n",
    "predicted = classifier.predict(x_test)\n",
    "\n",
    "np.savetxt(\"svm.csv\", predicted, delimiter=\",\")\n",
    "print(\"Classification report for classifier %s:\\n%s\\n\"\n",
    "      % (classifier, metrics.classification_report(expected, predicted)))\n",
    "print(\"Confusion matrix:\\n%s\" % metrics.confusion_matrix(expected, predicted))\n"
   ]
  },
  {
   "cell_type": "markdown",
   "metadata": {},
   "source": [
    "### Testing using USPS"
   ]
  },
  {
   "cell_type": "code",
   "execution_count": 4,
   "metadata": {},
   "outputs": [
    {
     "name": "stdout",
     "output_type": "stream",
     "text": [
      "testing using USPS dataset\n",
      "Classification report for classifier SVC(C=2, cache_size=200, class_weight=None, coef0=0.0,\n",
      "  decision_function_shape='ovr', degree=3, gamma=0.001, kernel='rbf',\n",
      "  max_iter=-1, probability=False, random_state=None, shrinking=True,\n",
      "  tol=0.001, verbose=False):\n",
      "             precision    recall  f1-score   support\n",
      "\n",
      "          0       0.44      0.29      0.35      2000\n",
      "          1       0.46      0.21      0.29      2000\n",
      "          2       0.34      0.71      0.46      1999\n",
      "          3       0.48      0.56      0.52      2000\n",
      "          4       0.53      0.57      0.55      2000\n",
      "          5       0.29      0.67      0.40      2000\n",
      "          6       0.66      0.37      0.48      2000\n",
      "          7       0.24      0.23      0.23      2000\n",
      "          8       0.35      0.12      0.18      2000\n",
      "          9       0.29      0.11      0.16      2000\n",
      "\n",
      "avg / total       0.41      0.39      0.36     19999\n",
      "\n",
      "\n",
      "Confusion matrix:\n",
      "[[ 580    2  424   22  265  253   68   52    6  328]\n",
      " [ 102  413  311  154  264  173   43  500   23   17]\n",
      " [ 126   16 1416   67   38  192   60   55   19   10]\n",
      " [  69    5  199 1128    8  479    5   64   30   13]\n",
      " [  15   53   95   15 1150  251   25  220   74  102]\n",
      " [ 104   18  281  116   20 1337   61   39   19    5]\n",
      " [ 178    6  521   31   89  381  749   10    6   29]\n",
      " [  44  208  433  301   57  403   15  460   56   23]\n",
      " [  73   22  220  203   81 1000   95   40  242   24]\n",
      " [  18  150  237  293  188  158    6  510  212  228]]\n"
     ]
    }
   ],
   "source": [
    "print(\"testing using USPS dataset\")\n",
    "expected = usps_lables\n",
    "predicted = classifier.predict(usps_data)\n",
    "\n",
    "np.savetxt(\"svm_usps.csv\", predicted, delimiter=\",\")\n",
    "print(\"Classification report for classifier %s:\\n%s\\n\"\n",
    "      % (classifier, metrics.classification_report(expected, predicted)))\n",
    "print(\"Confusion matrix:\\n%s\" % metrics.confusion_matrix(expected, predicted))\n"
   ]
  },
  {
   "cell_type": "markdown",
   "metadata": {},
   "source": [
    "## Random Forests Classifier"
   ]
  },
  {
   "cell_type": "code",
   "execution_count": 5,
   "metadata": {},
   "outputs": [
    {
     "name": "stdout",
     "output_type": "stream",
     "text": [
      "random forest accuracy:  0.9446\n",
      "Confusion matrix:\n",
      "[[ 966    0    1    0    0    5    3    1    3    1]\n",
      " [   0 1118    3    3    0    2    5    0    3    1]\n",
      " [  10    2  990   11    1    0    4    7    7    0]\n",
      " [   2    3   19  940    1   16    2    8   13    6]\n",
      " [   1    4    8    1  924    0    6    1    6   31]\n",
      " [   8    3    1   38    7  817    5    2    8    3]\n",
      " [  16    5    7    0    9    5  913    0    3    0]\n",
      " [   2    6   21    5    3    2    0  977    2   10]\n",
      " [   9    2   12   12   10   17    6    6  890   10]\n",
      " [  10    6    5   13   37    7    0   13    7  911]]\n"
     ]
    }
   ],
   "source": [
    "from sklearn.metrics import accuracy_score\n",
    "from sklearn.ensemble import RandomForestClassifier\n",
    "\n",
    "clf_rf = RandomForestClassifier()\n",
    "clf_rf.fit(x_train, y_train)\n",
    "y_pred_rf = clf_rf.predict(x_test)\n",
    "np.savetxt(\"rf.csv\", y_pred_rf, delimiter=\",\")\n",
    "\n",
    "acc_rf = accuracy_score(y_test, y_pred_rf)\n",
    "print (\"random forest accuracy: \",acc_rf)\n",
    "print(\"Confusion matrix:\\n%s\" % metrics.confusion_matrix(y_test, y_pred_rf))"
   ]
  },
  {
   "cell_type": "markdown",
   "metadata": {},
   "source": [
    "### Testing using USPS"
   ]
  },
  {
   "cell_type": "code",
   "execution_count": 6,
   "metadata": {},
   "outputs": [
    {
     "name": "stdout",
     "output_type": "stream",
     "text": [
      "testing using USPS dataset\n",
      "Classification report for classifier SVC(C=2, cache_size=200, class_weight=None, coef0=0.0,\n",
      "  decision_function_shape='ovr', degree=3, gamma=0.001, kernel='rbf',\n",
      "  max_iter=-1, probability=False, random_state=None, shrinking=True,\n",
      "  tol=0.001, verbose=False):\n",
      "             precision    recall  f1-score   support\n",
      "\n",
      "          0       0.33      0.30      0.32      2000\n",
      "          1       0.30      0.32      0.31      2000\n",
      "          2       0.27      0.47      0.34      1999\n",
      "          3       0.39      0.48      0.43      2000\n",
      "          4       0.41      0.39      0.40      2000\n",
      "          5       0.27      0.46      0.34      2000\n",
      "          6       0.50      0.27      0.35      2000\n",
      "          7       0.20      0.28      0.23      2000\n",
      "          8       0.31      0.06      0.09      2000\n",
      "          9       0.18      0.05      0.08      2000\n",
      "\n",
      "avg / total       0.32      0.31      0.29     19999\n",
      "\n",
      "\n",
      "Confusion matrix:\n",
      "[[608  36 273  94 331 170 119 153  11 205]\n",
      " [ 87 642 187  96  90 177  37 640  23  21]\n",
      " [204 132 939 130  52 274  66 163  26  13]\n",
      " [109  89 262 962  41 350  28 106  26  27]\n",
      " [ 43 260 139  88 789 153  61 352  31  84]\n",
      " [231 101 213 238  72 918  62 114  18  33]\n",
      " [291  92 333  73 147 366 545 117  14  22]\n",
      " [ 75 407 480 212  41 139  46 550  24  26]\n",
      " [105 129 282 276 151 685 102 110 110  50]\n",
      " [ 67 274 367 309 203 165  30 409  71 105]]\n"
     ]
    }
   ],
   "source": [
    "print(\"testing using USPS dataset\")\n",
    "expected = usps_lables\n",
    "predicted = clf_rf.predict(usps_data)\n",
    "np.savetxt(\"rf_usps.csv\", predicted, delimiter=\",\")\n",
    "\n",
    "print(\"Classification report for classifier %s:\\n%s\\n\"\n",
    "      % (classifier, metrics.classification_report(expected, predicted)))\n",
    "print(\"Confusion matrix:\\n%s\" % metrics.confusion_matrix(expected, predicted))\n"
   ]
  },
  {
   "cell_type": "code",
   "execution_count": null,
   "metadata": {},
   "outputs": [],
   "source": []
  }
 ],
 "metadata": {
  "kernelspec": {
   "display_name": "Python 3",
   "language": "python",
   "name": "python3"
  },
  "language_info": {
   "codemirror_mode": {
    "name": "ipython",
    "version": 3
   },
   "file_extension": ".py",
   "mimetype": "text/x-python",
   "name": "python",
   "nbconvert_exporter": "python",
   "pygments_lexer": "ipython3",
   "version": "3.6.5"
  }
 },
 "nbformat": 4,
 "nbformat_minor": 2
}
