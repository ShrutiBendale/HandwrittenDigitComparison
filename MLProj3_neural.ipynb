{
 "cells": [
  {
   "cell_type": "markdown",
   "metadata": {},
   "source": [
    "## Generating training and testing datasets (MNIST)"
   ]
  },
  {
   "cell_type": "code",
   "execution_count": 80,
   "metadata": {},
   "outputs": [
    {
     "name": "stdout",
     "output_type": "stream",
     "text": [
      "(50000, 784) (50000,)\n",
      "(10000, 784) (10000,)\n"
     ]
    }
   ],
   "source": [
    "import pickle\n",
    "import gzip\n",
    "import numpy as np\n",
    "import matplotlib.pyplot as plt\n",
    "\n",
    "path = 'mnist.pkl.gz'\n",
    "f = gzip.open(path, 'rb')\n",
    "training_data, validation_data, test_data = pickle.load(f, encoding='latin1')\n",
    "f.close()\n",
    "\n",
    "x_train, y_train = training_data[0], training_data[1]\n",
    "print (x_train.shape, y_train.shape)\n",
    "\n",
    "x_test, y_test = test_data[0], test_data[1]\n",
    "print (x_test.shape, y_test.shape)\n",
    "\n",
    "x_traindnn = x_train\n",
    "y_traindnn = y_train\n",
    "\n",
    "x_testdnn = x_test\n",
    "y_testdnn = y_test\n",
    "\n",
    "# print(x_traindnn.shape)\n",
    "# print(y_traindnn.shape)\n"
   ]
  },
  {
   "cell_type": "markdown",
   "metadata": {},
   "source": [
    "## Classification using a CNN"
   ]
  },
  {
   "cell_type": "code",
   "execution_count": 81,
   "metadata": {},
   "outputs": [
    {
     "name": "stdout",
     "output_type": "stream",
     "text": [
      "x_train shape (50000, 28, 28, 1)\n",
      "x_test shape (10000, 28, 28, 1)\n"
     ]
    }
   ],
   "source": [
    "# Reshaping the array to 4-dims so that it can work with the Keras API\n",
    "x_train = x_train.reshape(x_train.shape[0], 28, 28, 1)\n",
    "x_test = x_test.reshape(x_test.shape[0], 28, 28, 1)\n",
    "\n",
    "print('x_train shape', x_train.shape)\n",
    "print('x_test shape', x_test.shape)"
   ]
  },
  {
   "cell_type": "code",
   "execution_count": 106,
   "metadata": {
    "scrolled": false
   },
   "outputs": [
    {
     "name": "stdout",
     "output_type": "stream",
     "text": [
      "Epoch 1/10\n",
      "50000/50000 [==============================] - 14s 275us/step - loss: 0.2469 - acc: 0.9248\n",
      "Epoch 2/10\n",
      "50000/50000 [==============================] - 12s 245us/step - loss: 0.1055 - acc: 0.9678\n",
      "Epoch 3/10\n",
      "50000/50000 [==============================] - 12s 241us/step - loss: 0.0719 - acc: 0.9776\n",
      "Epoch 4/10\n",
      "50000/50000 [==============================] - 13s 261us/step - loss: 0.0550 - acc: 0.9820\n",
      "Epoch 5/10\n",
      "50000/50000 [==============================] - 12s 239us/step - loss: 0.0427 - acc: 0.9856\n",
      "Epoch 6/10\n",
      "50000/50000 [==============================] - 12s 243us/step - loss: 0.0368 - acc: 0.9878\n",
      "Epoch 7/10\n",
      "50000/50000 [==============================] - 12s 241us/step - loss: 0.0292 - acc: 0.9901\n",
      "Epoch 8/10\n",
      "50000/50000 [==============================] - 12s 235us/step - loss: 0.0276 - acc: 0.9907\n",
      "Epoch 9/10\n",
      "50000/50000 [==============================] - 12s 238us/step - loss: 0.0234 - acc: 0.9922\n",
      "Epoch 10/10\n",
      "50000/50000 [==============================] - 12s 237us/step - loss: 0.0235 - acc: 0.9924\n"
     ]
    },
    {
     "data": {
      "text/plain": [
       "array([<matplotlib.axes._subplots.AxesSubplot object at 0x1147c6f60>,\n",
       "       <matplotlib.axes._subplots.AxesSubplot object at 0xb420af748>],\n",
       "      dtype=object)"
      ]
     },
     "execution_count": 106,
     "metadata": {},
     "output_type": "execute_result"
    },
    {
     "data": {
      "image/png": "[encoded data removed]",
      "text/plain": [
       "<Figure size 720x1080 with 2 Axes>"
      ]
     },
     "metadata": {},
     "output_type": "display_data"
    }
   ],
   "source": [
    "# Building the model\n",
    "import tensorflow as tf\n",
    "from keras.models import Sequential\n",
    "from keras.layers import Dense, Conv2D, Dropout, Flatten, MaxPooling2D\n",
    "%matplotlib inline\n",
    "import pandas as pd\n",
    "\n",
    "#creating a CNN\n",
    "input_shape = (28, 28, 1)   \n",
    "model = Sequential()\n",
    "model.add(Conv2D(28, kernel_size=(3,3), input_shape=input_shape))\n",
    "model.add(MaxPooling2D(pool_size=(2, 2)))\n",
    "model.add(Flatten()) # Flattening the 2D arrays for fully connected layers\n",
    "model.add(Dense(128, activation=tf.nn.relu))\n",
    "model.add(Dropout(0.2))\n",
    "y_predicted = model.add(Dense(10,activation=tf.nn.softmax))\n",
    "\n",
    "#Compiling the CNN\n",
    "model.compile(optimizer='adam', \n",
    "              loss='sparse_categorical_crossentropy', \n",
    "              metrics=['accuracy'])\n",
    "history = model.fit(x=x_train,y=y_train, epochs=10)\n",
    "\n",
    "#plot graphs\n",
    "df = pd.DataFrame(history.history)\n",
    "df.plot(subplots=True, grid=True, figsize=(10,15))\n"
   ]
  },
  {
   "cell_type": "markdown",
   "metadata": {},
   "source": [
    "## Testing the CNN model using MNIST and USPS datasets"
   ]
  },
  {
   "cell_type": "code",
   "execution_count": 108,
   "metadata": {},
   "outputs": [
    {
     "name": "stdout",
     "output_type": "stream",
     "text": [
      "(10000, 28, 28, 1)\n",
      "(10000,)\n",
      "10000/10000 [==============================] - 1s 86us/step\n",
      "Test loss: 0.0560671895022675\n",
      "Test accuracy: 0.9852\n",
      "Confusion Matrix: \n",
      " [[ 960    0    2    0    0    1   12    1    2    2]\n",
      " [   0 1126    4    0    0    0    2    3    0    0]\n",
      " [   0    0 1021    0    0    0    2    7    2    0]\n",
      " [   0    0    0  999    0    5    0    3    3    0]\n",
      " [   0    1    4    0  965    0    2    0    1    9]\n",
      " [   1    0    1    5    0  881    2    1    1    0]\n",
      " [   3    2    0    0    1    2  949    0    1    0]\n",
      " [   0    1    7    0    0    0    0 1018    0    2]\n",
      " [   2    0    3    5    1    5    0    4  950    4]\n",
      " [   1    3    0    6    5    6    1    4    0  983]]\n"
     ]
    }
   ],
   "source": [
    "#Testing using MNIST dataset\n",
    "\n",
    "print(x_test.shape)\n",
    "print(y_test.shape)\n",
    "score = model.evaluate(x_test, y_test)\n",
    "print('Test loss:', score[0])\n",
    "print('Test accuracy:', score[1])\n",
    "\n",
    "pred1 = np.empty((10000,0))\n",
    "for i in range(10000):\n",
    "    pred = model.predict(x_test[i].reshape(1, 28, 28, 1))\n",
    "    pred = pred.argmax()\n",
    "    pred1 = np.append(pred1, pred)\n",
    "\n",
    "np.savetxt(\"cnn.csv\", pred1, delimiter=\",\")\n",
    "np.savetxt(\"actual.csv\", pred1, delimiter=\",\")\n",
    "confusion = tf.confusion_matrix(labels=y_test, predictions=pred1)\n",
    "\n",
    "with tf.Session():\n",
    "   print('Confusion Matrix: \\n', tf.Tensor.eval(confusion,feed_dict=None, session=None))\n",
    " "
   ]
  },
  {
   "cell_type": "code",
   "execution_count": 109,
   "metadata": {},
   "outputs": [
    {
     "name": "stdout",
     "output_type": "stream",
     "text": [
      "19999/19999 [==============================] - 2s 87us/step\n",
      "Test loss: 4.800172557170179\n",
      "Test accuracy: 0.4875743787099948\n",
      "Confusion Matrix: \n",
      " [[ 387    1  253   55  226   45  173   23   47  790]\n",
      " [  36  467  184   56  541   89   77  300  190   60]\n",
      " [   5    6 1737   34   22   77   42   32   37    7]\n",
      " [   0    2  148 1175    5  552   14   36   51   17]\n",
      " [   1   13  123   59 1101   28    9  195  428   43]\n",
      " [   3    1   52  210    7 1636    6   17   24   44]\n",
      " [  20    6  458   17   60  154 1243    3   25   14]\n",
      " [   3   19  275  524   21   45   24  926  139   24]\n",
      " [  15    2  131  528   16  375   27   64  664  178]\n",
      " [   2    0  162  616   59   20    6  216  504  415]]\n"
     ]
    }
   ],
   "source": [
    "#Testing using USPS dataset\n",
    "\n",
    "from PIL import Image\n",
    "import os\n",
    "import numpy as np\n",
    "\n",
    "#USPS data preprocessing\n",
    "USPSMat  = []\n",
    "USPSTar  = []\n",
    "curPath  = 'USPSdata/Numerals'\n",
    "savedImg = []\n",
    "\n",
    "\n",
    "for j in range(0,10):\n",
    "    curFolderPath = curPath + '/' + str(j)\n",
    "    imgs =  os.listdir(curFolderPath)\n",
    "    for img in imgs:\n",
    "        curImg = curFolderPath + '/' + img\n",
    "        if curImg[-3:] == 'png':\n",
    "            img = Image.open(curImg,'r')\n",
    "            img = img.resize((28, 28))\n",
    "            savedImg = img\n",
    "            imgdata = (255-np.array(img.getdata()))/255\n",
    "            USPSMat.append(imgdata)\n",
    "            USPSTar.append(j)\n",
    "usps_data = np.array(USPSMat) \n",
    "usps_lables = np.array(USPSTar)\n",
    "usps_data = usps_data.reshape(usps_data.shape[0], 28, 28, 1)\n",
    "\n",
    "\n",
    "#Testing using USPS data\n",
    "\n",
    "score = model.evaluate(usps_data, usps_lables)\n",
    "print('Test loss:', score[0])\n",
    "print('Test accuracy:', score[1])\n",
    "\n",
    "pred1 = np.empty((19999,0))\n",
    "for i in range(19999):\n",
    "    pred = model.predict(usps_data[i].reshape(1, 28, 28, 1))\n",
    "    pred = pred.argmax()\n",
    "    pred1 = np.append(pred1, pred)\n",
    "np.savetxt(\"cnn_usps.csv\", pred1, delimiter=\",\")\n",
    "\n",
    "confusion = tf.confusion_matrix(labels=usps_lables, predictions=pred1)\n",
    "\n",
    "with tf.Session():\n",
    "   print('Confusion Matrix: \\n', tf.Tensor.eval(confusion,feed_dict=None, session=None))\n",
    " "
   ]
  },
  {
   "cell_type": "markdown",
   "metadata": {},
   "source": [
    "## Using the CNN model to predict lables of images"
   ]
  },
  {
   "cell_type": "code",
   "execution_count": 100,
   "metadata": {},
   "outputs": [
    {
     "name": "stdout",
     "output_type": "stream",
     "text": [
      "actual value: 7\n",
      "predicted value: 7\n"
     ]
    },
    {
     "data": {
      "image/png": "[encoded data removed]",
      "text/plain": [
       "<Figure size 432x288 with 1 Axes>"
      ]
     },
     "metadata": {},
     "output_type": "display_data"
    }
   ],
   "source": [
    "image_index = 4444\n",
    "#print(x_test[0])\n",
    "plt.imshow(x_test[0].reshape(28, 28),cmap='Greys')\n",
    "pred = model.predict(x_test[0].reshape(1, 28, 28, 1))\n",
    "print(\"actual value:\",y_test[0])\n",
    "print(\"predicted value:\",pred.argmax())\n",
    "np.savetxt(\"actual_usps.csv\", usps_lables, delimiter=\",\")"
   ]
  },
  {
   "cell_type": "markdown",
   "metadata": {},
   "source": [
    "## Classification using DNN"
   ]
  },
  {
   "cell_type": "code",
   "execution_count": 87,
   "metadata": {},
   "outputs": [
    {
     "name": "stdout",
     "output_type": "stream",
     "text": [
      "_________________________________________________________________\n",
      "Layer (type)                 Output Shape              Param #   \n",
      "=================================================================\n",
      "dense_19 (Dense)             (None, 2048)              1607680   \n",
      "_________________________________________________________________\n",
      "activation_15 (Activation)   (None, 2048)              0         \n",
      "_________________________________________________________________\n",
      "dropout_10 (Dropout)         (None, 2048)              0         \n",
      "_________________________________________________________________\n",
      "dense_20 (Dense)             (None, 10)                20490     \n",
      "_________________________________________________________________\n",
      "activation_16 (Activation)   (None, 10)                0         \n",
      "=================================================================\n",
      "Total params: 1,628,170\n",
      "Trainable params: 1,628,170\n",
      "Non-trainable params: 0\n",
      "_________________________________________________________________\n",
      "Epoch 1/10\n",
      "50000/50000 [==============================] - 17s 334us/step - loss: 0.2106 - acc: 0.9361\n",
      "Epoch 2/10\n",
      "50000/50000 [==============================] - 16s 324us/step - loss: 0.0935 - acc: 0.9714\n",
      "Epoch 3/10\n",
      "50000/50000 [==============================] - 16s 327us/step - loss: 0.0652 - acc: 0.9792\n",
      "Epoch 4/10\n",
      "50000/50000 [==============================] - 17s 344us/step - loss: 0.0533 - acc: 0.9829\n",
      "Epoch 5/10\n",
      "50000/50000 [==============================] - 16s 319us/step - loss: 0.0413 - acc: 0.9859\n",
      "Epoch 6/10\n",
      "50000/50000 [==============================] - 15s 301us/step - loss: 0.0355 - acc: 0.9881\n",
      "Epoch 7/10\n",
      "50000/50000 [==============================] - 15s 307us/step - loss: 0.0309 - acc: 0.9903\n",
      "Epoch 8/10\n",
      "50000/50000 [==============================] - 15s 304us/step - loss: 0.0287 - acc: 0.9909\n",
      "Epoch 9/10\n",
      "50000/50000 [==============================] - 15s 305us/step - loss: 0.0280 - acc: 0.9911\n",
      "Epoch 10/10\n",
      "50000/50000 [==============================] - 15s 307us/step - loss: 0.0255 - acc: 0.9921\n"
     ]
    },
    {
     "data": {
      "text/plain": [
       "array([<matplotlib.axes._subplots.AxesSubplot object at 0x112128898>,\n",
       "       <matplotlib.axes._subplots.AxesSubplot object at 0x111f6bb38>],\n",
       "      dtype=object)"
      ]
     },
     "execution_count": 87,
     "metadata": {},
     "output_type": "execute_result"
    },
    {
     "data": {
      "image/png": "[encoded data removed]",
      "text/plain": [
       "<Figure size 720x1080 with 2 Axes>"
      ]
     },
     "metadata": {},
     "output_type": "display_data"
    }
   ],
   "source": [
    "from keras.models import Sequential\n",
    "from keras.layers import Dense, Activation, Dropout\n",
    "from keras.callbacks import EarlyStopping, TensorBoard\n",
    "import numpy as np\n",
    "from keras.utils import to_categorical\n",
    "\n",
    "\n",
    "input_size = 784\n",
    "drop_out = 0.2\n",
    "first_dense_layer_nodes  = 2048\n",
    "second_dense_layer_nodes = 10\n",
    "\n",
    "def get_model():\n",
    "    model = Sequential()\n",
    "  \n",
    "    model.add(Dense(first_dense_layer_nodes, input_dim=input_size))\n",
    "    model.add(Activation('relu'))\n",
    "    model.add(Dropout(drop_out)) \n",
    "    model.add(Dense(second_dense_layer_nodes))\n",
    "    model.add(Activation('softmax'))\n",
    "    \n",
    "    model.summary()\n",
    "    \n",
    "    model.compile(optimizer='adam',\n",
    "                  loss='categorical_crossentropy',\n",
    "                  metrics=['accuracy'])\n",
    "    return model\n",
    "\n",
    "model_dnn = get_model()\n",
    "history = model_dnn.fit(x=x_traindnn,y=to_categorical(y_traindnn), epochs=10)\n",
    "\n",
    "#plot graphs\n",
    "df = pd.DataFrame(history.history)\n",
    "df.plot(subplots=True, grid=True, figsize=(10,15))\n"
   ]
  },
  {
   "cell_type": "markdown",
   "metadata": {},
   "source": [
    "## Testing the DNN model using MNIST and USPS datasets"
   ]
  },
  {
   "cell_type": "code",
   "execution_count": 103,
   "metadata": {},
   "outputs": [
    {
     "name": "stdout",
     "output_type": "stream",
     "text": [
      "10000/10000 [==============================] - 1s 88us/step\n",
      "Test loss: 0.09019882881085704\n",
      "Test accuracy: 0.98\n",
      "Confusion Matrix: \n",
      " [[ 974    1    0    0    1    0    0    1    1    2]\n",
      " [   0 1130    2    1    0    0    0    0    2    0]\n",
      " [   5    2  999    3    1    0    1    8   13    0]\n",
      " [   1    0    6  994    0    2    0    3    2    2]\n",
      " [   1    1    4    0  963    0    1    2    3    7]\n",
      " [   4    0    0   17    1  863    3    0    3    1]\n",
      " [   7    4    0    1    4    6  933    0    3    0]\n",
      " [   1    2    5    3    1    0    0 1008    2    6]\n",
      " [   5    0    2    3    4    2    1    2  950    5]\n",
      " [   3    3    0    4    8    1    0    3    1  986]]\n"
     ]
    }
   ],
   "source": [
    "#Testing using MNIST dataset\n",
    "\n",
    "\n",
    "score = model_dnn.evaluate(x_testdnn, to_categorical(y_testdnn))\n",
    "print('Test loss:', score[0])\n",
    "print('Test accuracy:', score[1])\n",
    "\n",
    "pred_dnn = np.empty((10000,0))\n",
    "for i in range(10000):\n",
    "    pred = model_dnn.predict(x_testdnn[i].reshape(1, 784))\n",
    "    for i in range(pred.shape[0]):\n",
    "        datum = pred[i]\n",
    "        preddec = np.argmax(pred[i])\n",
    "    pred_dnn = np.append(pred_dnn, preddec)\n",
    "\n",
    "np.savetxt(\"dnn.csv\", pred_dnn, delimiter=\",\")\n",
    "\n",
    "confusion = tf.confusion_matrix(labels=y_test, predictions=pred_dnn)\n",
    "with tf.Session():\n",
    "   print('Confusion Matrix: \\n', tf.Tensor.eval(confusion,feed_dict=None, session=None))\n",
    " "
   ]
  },
  {
   "cell_type": "code",
   "execution_count": 105,
   "metadata": {},
   "outputs": [
    {
     "name": "stdout",
     "output_type": "stream",
     "text": [
      "19999/19999 [==============================] - 1s 68us/step\n",
      "Test loss: 5.157580578849938\n",
      "Test accuracy: 0.4952747637292458\n",
      "Confusion Matrix: \n",
      " [[ 702    3  182   35  270  125  153   91  113  326]\n",
      " [  43  566  393   92  311   63    7  366  107   52]\n",
      " [  73   10 1648   30   20   66   55   47   43    7]\n",
      " [  34    9  198 1454    8  194    6   18   66   13]\n",
      " [  22   75   48   13 1222   95   29  223  241   32]\n",
      " [  68    1  173   57   18 1465   51   18  143    6]\n",
      " [ 196   19  420   17   49  115 1015   68   33   68]\n",
      " [  29  144  312  309   55   23   22  874  221   11]\n",
      " [ 190   14  175  292  134  227  116  110  710   32]\n",
      " [   9   66  109  197  269   30    6  670  395  249]]\n"
     ]
    }
   ],
   "source": [
    "#Testing using USPS dataset\n",
    "\n",
    "from PIL import Image\n",
    "import os\n",
    "import numpy as np\n",
    "\n",
    "#USPS data preprocessing\n",
    "USPSMat  = []\n",
    "USPSTar  = []\n",
    "curPath  = 'USPSdata/Numerals'\n",
    "savedImg = []\n",
    "\n",
    "\n",
    "for j in range(0,10):\n",
    "    curFolderPath = curPath + '/' + str(j)\n",
    "    imgs =  os.listdir(curFolderPath)\n",
    "    for img in imgs:\n",
    "        curImg = curFolderPath + '/' + img\n",
    "        if curImg[-3:] == 'png':\n",
    "            img = Image.open(curImg,'r')\n",
    "            img = img.resize((28, 28))\n",
    "            savedImg = img\n",
    "            imgdata = (255-np.array(img.getdata()))/255\n",
    "            USPSMat.append(imgdata)\n",
    "            USPSTar.append(j)\n",
    "usps_data = np.array(USPSMat) \n",
    "usps_lables = np.array(USPSTar)\n",
    "\n",
    "#Testing using USPS data\n",
    "\n",
    "score = model_dnn.evaluate(usps_data, to_categorical(usps_lables))\n",
    "print('Test loss:', score[0])\n",
    "print('Test accuracy:', score[1])\n",
    "\n",
    "pred_dnn = np.empty((19999,0))\n",
    "for i in range(19999):\n",
    "    pred = model_dnn.predict(usps_data[i].reshape(1, 784))\n",
    "    for i in range(pred.shape[0]):\n",
    "        datum = pred[i]\n",
    "        preddec = np.argmax(pred[i])\n",
    "    pred_dnn = np.append(pred_dnn, preddec)\n",
    "np.savetxt(\"dnn_usps.csv\", pred_dnn, delimiter=\",\")\n",
    "\n",
    "confusion = tf.confusion_matrix(labels=usps_lables, predictions=pred_dnn)\n",
    "with tf.Session():\n",
    "   print('Confusion Matrix: \\n', tf.Tensor.eval(confusion,feed_dict=None, session=None))"
   ]
  },
  {
   "cell_type": "markdown",
   "metadata": {},
   "source": [
    "## Using the DNN model to predict labels of images"
   ]
  },
  {
   "cell_type": "code",
   "execution_count": 90,
   "metadata": {
    "scrolled": true
   },
   "outputs": [
    {
     "name": "stdout",
     "output_type": "stream",
     "text": [
      "actual value: 6\n",
      "predicted value: 6\n"
     ]
    },
    {
     "data": {
      "image/png": "[encoded data removed]",
      "text/plain": [
       "<Figure size 432x288 with 1 Axes>"
      ]
     },
     "metadata": {},
     "output_type": "display_data"
    }
   ],
   "source": [
    "image_index = 4444\n",
    "#print(x_test[123])\n",
    "plt.imshow(x_test[123].reshape(28, 28),cmap='Greys')\n",
    "pred = model_dnn.predict(x_testdnn[123].reshape(1, 784))\n",
    "print(\"actual value:\",y_testdnn[123])\n",
    "print(\"predicted value:\",pred.argmax())\n"
   ]
  },
  {
   "cell_type": "code",
   "execution_count": null,
   "metadata": {},
   "outputs": [],
   "source": []
  },
  {
   "cell_type": "code",
   "execution_count": null,
   "metadata": {},
   "outputs": [],
   "source": []
  }
 ],
 "metadata": {
  "kernelspec": {
   "display_name": "Python 3",
   "language": "python",
   "name": "python3"
  },
  "language_info": {
   "codemirror_mode": {
    "name": "ipython",
    "version": 3
   },
   "file_extension": ".py",
   "mimetype": "text/x-python",
   "name": "python",
   "nbconvert_exporter": "python",
   "pygments_lexer": "ipython3",
   "version": "3.7.1"
  }
 },
 "nbformat": 4,
 "nbformat_minor": 2
}
